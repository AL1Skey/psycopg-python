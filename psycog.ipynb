{
 "cells": [
  {
   "cell_type": "code",
   "execution_count": 2,
   "metadata": {},
   "outputs": [
    {
     "name": "stdout",
     "output_type": "stream",
     "text": [
      "Collecting package metadata (repodata.json): ...working... done\n",
      "Solving environment: ...working... done\n",
      "\n",
      "## Package Plan ##\n",
      "\n",
      "  environment location: c:\\ProgramData\\miniconda3\n",
      "\n",
      "  removed specs:\n",
      "    - psycopg2\n",
      "\n",
      "\n",
      "The following packages will be REMOVED:\n",
      "\n",
      "  libpq-12.15-h906ac69_0\n",
      "  psycopg2-2.9.3-py311h2bbff1b_1\n",
      "\n",
      "\n",
      "Preparing transaction: ...working... done\n",
      "Verifying transaction: ...working... done\n",
      "Executing transaction: ...working... done\n",
      "\n",
      "Note: you may need to restart the kernel to use updated packages.\n"
     ]
    }
   ],
   "source": [
    "conda remove psycopg2"
   ]
  },
  {
   "cell_type": "code",
   "execution_count": 4,
   "metadata": {},
   "outputs": [
    {
     "name": "stdout",
     "output_type": "stream",
     "text": [
      "Collecting package metadata (current_repodata.json): ...working... done\n",
      "Solving environment: ...working... done\n",
      "\n",
      "## Package Plan ##\n",
      "\n",
      "  environment location: c:\\ProgramData\\miniconda3\n",
      "\n",
      "  added / updated specs:\n",
      "    - psycopg2\n",
      "\n",
      "\n",
      "The following packages will be downloaded:\n",
      "\n",
      "    package                    |            build\n",
      "    ---------------------------|-----------------\n",
      "    ca-certificates-2023.08.22 |       haa95532_0         161 KB  anaconda\n",
      "    certifi-2023.7.22          |  py311haa95532_0         157 KB  anaconda\n",
      "    conda-23.9.0               |  py311haa95532_0         1.3 MB  anaconda\n",
      "    krb5-1.20.1                |       h5b6d351_1         828 KB  anaconda\n",
      "    libpq-12.15                |       h906ac69_1         3.7 MB  anaconda\n",
      "    openssl-3.0.11             |       h2bbff1b_2         7.7 MB  anaconda\n",
      "    psycopg2-2.9.3             |  py311h2bbff1b_1         174 KB  anaconda\n",
      "    ------------------------------------------------------------\n",
      "                                           Total:        13.9 MB\n",
      "\n",
      "The following NEW packages will be INSTALLED:\n",
      "\n",
      "  krb5               anaconda/win-64::krb5-1.20.1-h5b6d351_1 \n",
      "  libpq              anaconda/win-64::libpq-12.15-h906ac69_1 \n",
      "  psycopg2           anaconda/win-64::psycopg2-2.9.3-py311h2bbff1b_1 \n",
      "\n",
      "The following packages will be SUPERSEDED by a higher-priority channel:\n",
      "\n",
      "  ca-certificates                                 pkgs/main --> anaconda \n",
      "  certifi                                         pkgs/main --> anaconda \n",
      "  conda                                           pkgs/main --> anaconda \n",
      "  openssl                                         pkgs/main --> anaconda \n",
      "\n",
      "\n",
      "\n",
      "Downloading and Extracting Packages: ...working... done\n",
      "Preparing transaction: ...working... done\n",
      "Verifying transaction: ...working... done\n",
      "Executing transaction: ...working... done\n",
      "\n",
      "Note: you may need to restart the kernel to use updated packages.\n"
     ]
    }
   ],
   "source": [
    "conda install -c anaconda psycopg2"
   ]
  },
  {
   "cell_type": "code",
   "execution_count": 40,
   "metadata": {},
   "outputs": [],
   "source": [
    "import psycopg2"
   ]
  },
  {
   "cell_type": "code",
   "execution_count": 54,
   "metadata": {},
   "outputs": [],
   "source": [
    "# Make Connection\n",
    "conn = psycopg2.connect(host=\"localhost\",dbname=\"postgres\",user=\"postgres\",password=\"123321\",port=\"5432\")"
   ]
  },
  {
   "cell_type": "code",
   "execution_count": 55,
   "metadata": {},
   "outputs": [],
   "source": [
    "# Make Cursor\n",
    "curse = conn.cursor()"
   ]
  },
  {
   "cell_type": "markdown",
   "metadata": {},
   "source": [
    "### Do smth"
   ]
  },
  {
   "cell_type": "code",
   "execution_count": 59,
   "metadata": {},
   "outputs": [],
   "source": [
    "try:\n",
    "    curse.execute(\"\"\"--sql\n",
    "    CREATE TABLE IF NOT EXISTS AcademyCityStudents(\n",
    "        id BIGSERIAL PRIMARY KEY,\n",
    "        name VARCHAR(255) UNIQUE,\n",
    "        age INT,\n",
    "        gender CHAR,\n",
    "        lvl FLOAT(2)\n",
    "    );\"\"\")\n",
    "\n",
    "    curse.execute(\"\"\"--sql\n",
    "                INSERT INTO AcademyCityStudents(name,age,gender,lvl) VALUES('Saten Ryoko',14,'F',0.0)\"\"\")\n",
    "\n",
    "    conn.commit()\n",
    "except Exception as e:\n",
    "    print(e)\n",
    "    curse.execute(\"\"\"--sql\n",
    "                  ROLLBACK;\"\"\")\n",
    "    conn.commit()"
   ]
  },
  {
   "cell_type": "code",
   "execution_count": 58,
   "metadata": {},
   "outputs": [],
   "source": [
    "try:\n",
    "    curse.execute(\"\"\"--sql\n",
    "                DROP TABLE IF EXISTS AcademyCityStudents;\"\"\")\n",
    "    conn.commit()\n",
    "except Exception as e:\n",
    "    curse.execute(\"\"\"--sql\n",
    "                  ROLLBACK;\"\"\")\n",
    "    conn.commit()"
   ]
  },
  {
   "cell_type": "code",
   "execution_count": null,
   "metadata": {},
   "outputs": [],
   "source": []
  }
 ],
 "metadata": {
  "kernelspec": {
   "display_name": "base",
   "language": "python",
   "name": "python3"
  },
  "language_info": {
   "codemirror_mode": {
    "name": "ipython",
    "version": 3
   },
   "file_extension": ".py",
   "mimetype": "text/x-python",
   "name": "python",
   "nbconvert_exporter": "python",
   "pygments_lexer": "ipython3",
   "version": "3.11.4"
  }
 },
 "nbformat": 4,
 "nbformat_minor": 2
}
