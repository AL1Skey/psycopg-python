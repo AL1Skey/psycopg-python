{
 "cells": [
  {
   "cell_type": "code",
   "execution_count": 2,
   "metadata": {},
   "outputs": [
    {
     "name": "stdout",
     "output_type": "stream",
     "text": [
      "Collecting package metadata (repodata.json): ...working... done\n",
      "Solving environment: ...working... done\n",
      "\n",
      "## Package Plan ##\n",
      "\n",
      "  environment location: c:\\ProgramData\\miniconda3\n",
      "\n",
      "  removed specs:\n",
      "    - psycopg2\n",
      "\n",
      "\n",
      "The following packages will be REMOVED:\n",
      "\n",
      "  libpq-12.15-h906ac69_0\n",
      "  psycopg2-2.9.3-py311h2bbff1b_1\n",
      "\n",
      "\n",
      "Preparing transaction: ...working... done\n",
      "Verifying transaction: ...working... done\n",
      "Executing transaction: ...working... done\n",
      "\n",
      "Note: you may need to restart the kernel to use updated packages.\n"
     ]
    }
   ],
   "source": [
    "conda remove psycopg2"
   ]
  },
  {
   "cell_type": "code",
   "execution_count": 4,
   "metadata": {},
   "outputs": [
    {
     "name": "stdout",
     "output_type": "stream",
     "text": [
      "Collecting package metadata (current_repodata.json): ...working... done\n",
      "Solving environment: ...working... done\n",
      "\n",
      "## Package Plan ##\n",
      "\n",
      "  environment location: c:\\ProgramData\\miniconda3\n",
      "\n",
      "  added / updated specs:\n",
      "    - psycopg2\n",
      "\n",
      "\n",
      "The following packages will be downloaded:\n",
      "\n",
      "    package                    |            build\n",
      "    ---------------------------|-----------------\n",
      "    ca-certificates-2023.08.22 |       haa95532_0         161 KB  anaconda\n",
      "    certifi-2023.7.22          |  py311haa95532_0         157 KB  anaconda\n",
      "    conda-23.9.0               |  py311haa95532_0         1.3 MB  anaconda\n",
      "    krb5-1.20.1                |       h5b6d351_1         828 KB  anaconda\n",
      "    libpq-12.15                |       h906ac69_1         3.7 MB  anaconda\n",
      "    openssl-3.0.11             |       h2bbff1b_2         7.7 MB  anaconda\n",
      "    psycopg2-2.9.3             |  py311h2bbff1b_1         174 KB  anaconda\n",
      "    ------------------------------------------------------------\n",
      "                                           Total:        13.9 MB\n",
      "\n",
      "The following NEW packages will be INSTALLED:\n",
      "\n",
      "  krb5               anaconda/win-64::krb5-1.20.1-h5b6d351_1 \n",
      "  libpq              anaconda/win-64::libpq-12.15-h906ac69_1 \n",
      "  psycopg2           anaconda/win-64::psycopg2-2.9.3-py311h2bbff1b_1 \n",
      "\n",
      "The following packages will be SUPERSEDED by a higher-priority channel:\n",
      "\n",
      "  ca-certificates                                 pkgs/main --> anaconda \n",
      "  certifi                                         pkgs/main --> anaconda \n",
      "  conda                                           pkgs/main --> anaconda \n",
      "  openssl                                         pkgs/main --> anaconda \n",
      "\n",
      "\n",
      "\n",
      "Downloading and Extracting Packages: ...working... done\n",
      "Preparing transaction: ...working... done\n",
      "Verifying transaction: ...working... done\n",
      "Executing transaction: ...working... done\n",
      "\n",
      "Note: you may need to restart the kernel to use updated packages.\n"
     ]
    }
   ],
   "source": [
    "conda install -c anaconda psycopg2"
   ]
  },
  {
   "cell_type": "code",
   "execution_count": 1,
   "metadata": {},
   "outputs": [],
   "source": [
    "import psycopg2"
   ]
  },
  {
   "cell_type": "code",
   "execution_count": 2,
   "metadata": {},
   "outputs": [
    {
     "ename": "OperationalError",
     "evalue": "could not translate host name \"loocalhost\" to address: Unknown host\n",
     "output_type": "error",
     "traceback": [
      "\u001b[1;31m---------------------------------------------------------------------------\u001b[0m",
      "\u001b[1;31mOperationalError\u001b[0m                          Traceback (most recent call last)",
      "\u001b[1;32md:\\dev\\psycog python\\psycog.ipynb Cell 4\u001b[0m line \u001b[0;36m2\n\u001b[0;32m      <a href='vscode-notebook-cell:/d%3A/dev/psycog%20python/psycog.ipynb#W3sZmlsZQ%3D%3D?line=0'>1</a>\u001b[0m \u001b[39m# Make Connection\u001b[39;00m\n\u001b[1;32m----> <a href='vscode-notebook-cell:/d%3A/dev/psycog%20python/psycog.ipynb#W3sZmlsZQ%3D%3D?line=1'>2</a>\u001b[0m conn \u001b[39m=\u001b[39m psycopg2\u001b[39m.\u001b[39mconnect(host\u001b[39m=\u001b[39m\u001b[39m\"\u001b[39m\u001b[39mloocalhost\u001b[39m\u001b[39m\"\u001b[39m,dbname\u001b[39m=\u001b[39m\u001b[39m\"\u001b[39m\u001b[39mpostgres\u001b[39m\u001b[39m\"\u001b[39m,user\u001b[39m=\u001b[39m\u001b[39m\"\u001b[39m\u001b[39mpostgres\u001b[39m\u001b[39m\"\u001b[39m,password\u001b[39m=\u001b[39m\u001b[39m\"\u001b[39m\u001b[39m123321\u001b[39m\u001b[39m\"\u001b[39m,port\u001b[39m=\u001b[39m\u001b[39m\"\u001b[39m\u001b[39m5432\u001b[39m\u001b[39m\"\u001b[39m)\n",
      "File \u001b[1;32mc:\\ProgramData\\miniconda3\\Lib\\site-packages\\psycopg2\\__init__.py:122\u001b[0m, in \u001b[0;36mconnect\u001b[1;34m(dsn, connection_factory, cursor_factory, **kwargs)\u001b[0m\n\u001b[0;32m    119\u001b[0m     kwasync[\u001b[39m'\u001b[39m\u001b[39masync_\u001b[39m\u001b[39m'\u001b[39m] \u001b[39m=\u001b[39m kwargs\u001b[39m.\u001b[39mpop(\u001b[39m'\u001b[39m\u001b[39masync_\u001b[39m\u001b[39m'\u001b[39m)\n\u001b[0;32m    121\u001b[0m dsn \u001b[39m=\u001b[39m _ext\u001b[39m.\u001b[39mmake_dsn(dsn, \u001b[39m*\u001b[39m\u001b[39m*\u001b[39mkwargs)\n\u001b[1;32m--> 122\u001b[0m conn \u001b[39m=\u001b[39m _connect(dsn, connection_factory\u001b[39m=\u001b[39mconnection_factory, \u001b[39m*\u001b[39m\u001b[39m*\u001b[39mkwasync)\n\u001b[0;32m    123\u001b[0m \u001b[39mif\u001b[39;00m cursor_factory \u001b[39mis\u001b[39;00m \u001b[39mnot\u001b[39;00m \u001b[39mNone\u001b[39;00m:\n\u001b[0;32m    124\u001b[0m     conn\u001b[39m.\u001b[39mcursor_factory \u001b[39m=\u001b[39m cursor_factory\n",
      "\u001b[1;31mOperationalError\u001b[0m: could not translate host name \"loocalhost\" to address: Unknown host\n"
     ]
    }
   ],
   "source": [
    "# Make Connection\n",
    "conn = psycopg2.connect(host=\"localhost\",dbname=\"postgres\",user=\"postgres\",password=\"123321\",port=\"5432\")"
   ]
  },
  {
   "cell_type": "code",
   "execution_count": 3,
   "metadata": {},
   "outputs": [
    {
     "ename": "NameError",
     "evalue": "name 'conn' is not defined",
     "output_type": "error",
     "traceback": [
      "\u001b[1;31m---------------------------------------------------------------------------\u001b[0m",
      "\u001b[1;31mNameError\u001b[0m                                 Traceback (most recent call last)",
      "\u001b[1;32md:\\dev\\psycog python\\psycog.ipynb Cell 5\u001b[0m line \u001b[0;36m2\n\u001b[0;32m      <a href='vscode-notebook-cell:/d%3A/dev/psycog%20python/psycog.ipynb#W4sZmlsZQ%3D%3D?line=0'>1</a>\u001b[0m \u001b[39m# Make Cursor\u001b[39;00m\n\u001b[1;32m----> <a href='vscode-notebook-cell:/d%3A/dev/psycog%20python/psycog.ipynb#W4sZmlsZQ%3D%3D?line=1'>2</a>\u001b[0m curse \u001b[39m=\u001b[39m conn\u001b[39m.\u001b[39mcursor()\n",
      "\u001b[1;31mNameError\u001b[0m: name 'conn' is not defined"
     ]
    }
   ],
   "source": [
    "# Make Cursor\n",
    "curse = conn.cursor()"
   ]
  },
  {
   "cell_type": "markdown",
   "metadata": {},
   "source": [
    "### Do smth"
   ]
  },
  {
   "cell_type": "code",
   "execution_count": 59,
   "metadata": {},
   "outputs": [],
   "source": [
    "try:\n",
    "    curse.execute(\"\"\"--sql\n",
    "    CREATE TABLE IF NOT EXISTS AcademyCityStudents(\n",
    "        id BIGSERIAL PRIMARY KEY,\n",
    "        name VARCHAR(255) UNIQUE,\n",
    "        age INT,\n",
    "        gender CHAR,\n",
    "        lvl FLOAT(2)\n",
    "    );\"\"\")\n",
    "\n",
    "    curse.execute(\"\"\"--sql\n",
    "                INSERT INTO AcademyCityStudents(name,age,gender,lvl) VALUES('Saten Ryoko',14,'F',0.0)\"\"\")\n",
    "\n",
    "    conn.commit()\n",
    "except Exception as e:\n",
    "    print(e)\n",
    "    curse.execute(\"\"\"--sql\n",
    "                  ROLLBACK;\"\"\")\n",
    "    conn.commit()"
   ]
  },
  {
   "cell_type": "code",
   "execution_count": 58,
   "metadata": {},
   "outputs": [],
   "source": [
    "try:\n",
    "    curse.execute(\"\"\"--sql\n",
    "                DROP TABLE IF EXISTS AcademyCityStudents;\"\"\")\n",
    "    conn.commit()\n",
    "except Exception as e:\n",
    "    curse.execute(\"\"\"--sql\n",
    "                  ROLLBACK;\"\"\")\n",
    "    conn.commit()"
   ]
  },
  {
   "cell_type": "code",
   "execution_count": null,
   "metadata": {},
   "outputs": [],
   "source": []
  }
 ],
 "metadata": {
  "kernelspec": {
   "display_name": "base",
   "language": "python",
   "name": "python3"
  },
  "language_info": {
   "codemirror_mode": {
    "name": "ipython",
    "version": 3
   },
   "file_extension": ".py",
   "mimetype": "text/x-python",
   "name": "python",
   "nbconvert_exporter": "python",
   "pygments_lexer": "ipython3",
   "version": "3.11.4"
  }
 },
 "nbformat": 4,
 "nbformat_minor": 2
}
