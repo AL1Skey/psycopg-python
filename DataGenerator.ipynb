{
 "cells": [
  {
   "cell_type": "code",
   "execution_count": 170,
   "metadata": {},
   "outputs": [],
   "source": [
    "import psycopg2,unittest\n",
    "import string\n",
    "import random\n",
    "\n",
    "def simpleNameGenerator():\n",
    "    vocal = 'aiueo'\n",
    "    alph = string.ascii_lowercase\n",
    "    \n",
    "    consonant = ''\n",
    "    for i in alph:\n",
    "        if i not in vocal:\n",
    "            consonant +=i\n",
    "    \n",
    "    smallest = 2\n",
    "    largest = 12\n",
    "    length = random.randint(smallest,largest)\n",
    "    name = ''\n",
    "    \n",
    "    for i in range(0,length):\n",
    "        if len(name) > 0:\n",
    "            temp = name[i-1]\n",
    "            if temp in vocal:\n",
    "                name += consonant[random.randint(0,len(consonant)-1)]\n",
    "            else:\n",
    "                name += vocal[random.randint(0,len(vocal)-1)]\n",
    "        else:\n",
    "            name += alph[random.randint(0,len(alph)-1)].upper()\n",
    "    \n",
    "    return name\n",
    "    \n",
    "\n",
    "class Database:\n",
    "    def __init__(self,host,dbname,user,password,port):\n",
    "        try:\n",
    "            self.connection = psycopg2.connect(host=str(host),dbname=str(dbname),user=str(user),password=str(password),port=str(port))\n",
    "            self.cursor = self.connection.cursor()\n",
    "        except Exception as e:\n",
    "            print(e)\n",
    "            return None\n",
    "    \n",
    "    def generate(self,length):\n",
    "        try:\n",
    "            \n",
    "            self.cursor.execute(\"\"\"--sql\n",
    "                           DROP TABLE IF EXISTS dummy;\"\"\")\n",
    "            self.cursor.execute(\"\"\"--sql\n",
    "                CREATE TABLE IF NOT EXISTS dummy(\n",
    "                id BIGSERIAL PRIMARY KEY,\n",
    "                firstname text,\n",
    "                lastname text,\n",
    "                postcode text\n",
    "                );\"\"\")\n",
    "            cmd = \"\"\n",
    "            for i in range(0,int(length)):\n",
    "                words1 = simpleNameGenerator()\n",
    "                words2 = simpleNameGenerator()\n",
    "                postcode = random.randint(1000,10000)\n",
    "                # for j in range(0,random.randint(10,len(self.alph))):\n",
    "                #     words1 += self.alph[random.randint(0,len(self.alph)-1)]\n",
    "                #     words2 += self.alph[random.randint(0,len(self.alph)-1)]\n",
    "                cmd += f'(\\'{words1}\\',\\'{words2}\\',\\'{postcode}\\'),'\n",
    "            cmd = cmd[:-1]\n",
    "            sqlQuery = \"\"\"INSERT INTO dummy (firstname,lastname,postcode) \n",
    "                            VALUES %s ;\"\"\"\n",
    "            self.cursor.execute(sqlQuery % (cmd,))\n",
    "            self.connection.commit()\n",
    "            print(\"Success Generating Data\")\n",
    "            \n",
    "        except Exception as e:\n",
    "            print(e)\n",
    "            self.cursor.execute(\"\"\"--sql\n",
    "                        ROLLBACK;\"\"\")\n",
    "            self.connection.commit()"
   ]
  },
  {
   "cell_type": "markdown",
   "metadata": {},
   "source": [
    "# Cara penggunaan"
   ]
  },
  {
   "cell_type": "markdown",
   "metadata": {},
   "source": [
    "### Menghubungkan database ke user\n",
    "format\n",
    "\n",
    "```py\n",
    "database = Database(host=\"namahostmu\",dbname=\"NamaDatabaseMu\",\n",
    "user=\"NamaUsernameMu\",password=\"Passwordmu\",port=\"PortYangKamuPilih\")\n",
    "```\n",
    "\n",
    "Contoh penggunaan\n",
    "\n",
    "```py\n",
    "database = Database(host=\"localhost\",dbname=\"postgres\",\n",
    "user=\"postgres\",password=\"AEZAKMI\",port=\"5432\")\n",
    "```"
   ]
  },
  {
   "cell_type": "markdown",
   "metadata": {},
   "source": [
    "# Membuat x baris table\n",
    "Contoh membuat table dengan 40 baris\n",
    "```py\n",
    "database = Database(host=\"localhost\",dbname=\"postgres\",\n",
    "user=\"postgres\",password=\"AEZAKMI\",port=\"5432\")\n",
    "database.generate(40)\n",
    "```"
   ]
  }
 ],
 "metadata": {
  "kernelspec": {
   "display_name": "base",
   "language": "python",
   "name": "python3"
  },
  "language_info": {
   "codemirror_mode": {
    "name": "ipython",
    "version": 3
   },
   "file_extension": ".py",
   "mimetype": "text/x-python",
   "name": "python",
   "nbconvert_exporter": "python",
   "pygments_lexer": "ipython3",
   "version": "3.11.4"
  }
 },
 "nbformat": 4,
 "nbformat_minor": 2
}
